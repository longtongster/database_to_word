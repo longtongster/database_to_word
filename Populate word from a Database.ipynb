{
 "cells": [
  {
   "cell_type": "code",
   "execution_count": null,
   "id": "628ff84b",
   "metadata": {},
   "outputs": [],
   "source": [
    "from sqlalchemy import create_engine, text, inspect\n",
    "from docx import Document\n",
    "import pandas as pd"
   ]
  },
  {
   "cell_type": "markdown",
   "id": "ca07ac29",
   "metadata": {},
   "source": [
    "## Get data in a database"
   ]
  },
  {
   "cell_type": "code",
   "execution_count": null,
   "id": "c716807b",
   "metadata": {},
   "outputs": [],
   "source": [
    "# Create a connection string and set up the database connection\n",
    "db_uri = \"sqlite:///requirements.db\"\n",
    "engine = create_engine(db_uri)\n",
    "\n",
    "# Read the requirements from an Excel file \n",
    "df = pd.read_excel(\"src_data.xlsx\")\n",
    "\n",
    "# Store the data in the database - note we \"replace\" the content for now\n",
    "num_entries = df.to_sql(\"requirements\", engine.connect(), index=False, if_exists='replace')\n",
    "print(f\"There {num_entries} added to the database\")"
   ]
  },
  {
   "cell_type": "markdown",
   "id": "6eaf9175",
   "metadata": {},
   "source": [
    "## Get metadata\n",
    "\n",
    "Let's check if a table was created and what the columns are"
   ]
  },
  {
   "cell_type": "code",
   "execution_count": null,
   "id": "5a8ebcbf",
   "metadata": {},
   "outputs": [],
   "source": [
    "# create an inspector object - this can be used to get metadata of our \"engine\"\n",
    "inspector = inspect(engine)\n",
    "\n",
    "# get and print de tables in the database\n",
    "tables = inspector.get_table_names()\n",
    "print(tables)\n",
    "\n",
    "# get and print the columns of a specific tabe\n",
    "cols = inspector.get_columns(tables[0])\n",
    "for col in cols:\n",
    "    print(col)"
   ]
  },
  {
   "cell_type": "markdown",
   "id": "97c4b751",
   "metadata": {},
   "source": [
    "## Query the database\n",
    "\n",
    "Get all rows of the table\n",
    "\n",
    "#### DOES EACH REQUIREMENT ONLY RELATES TO ONE TEAM?\n",
    "- if so we only need one colum and not two like we have now"
   ]
  },
  {
   "cell_type": "code",
   "execution_count": null,
   "id": "9e33327f",
   "metadata": {},
   "outputs": [],
   "source": [
    "# Define your SQL query\n",
    "sql_query = text(\"SELECT * FROM requirements\")\n",
    "pd.read_sql(sql_query, engine.connect()) "
   ]
  },
  {
   "cell_type": "markdown",
   "id": "c9bb95c4",
   "metadata": {},
   "source": [
    "## Add requirements to MS Word and save"
   ]
  },
  {
   "cell_type": "code",
   "execution_count": null,
   "id": "0a06db77",
   "metadata": {},
   "outputs": [],
   "source": [
    "# create a word document object\n",
    "document = Document()\n",
    "\n",
    "# Iterate over the pandas dataframe rows and insert the requirements in the\n",
    "# word document\n",
    "for idx, row in df.iterrows():\n",
    "    requirement_id = row['number']\n",
    "    requirement_desc =row['requirement']\n",
    "    document.add_paragraph(f\"Requirement ID: {requirement_id}\")\n",
    "    document.add_paragraph(f\"description: {requirement_desc}\")\n",
    "    document.add_paragraph(\"\")\n",
    "    \n",
    "# Save the populated document\n",
    "document.save(\"output_document.docx\")"
   ]
  },
  {
   "cell_type": "markdown",
   "id": "9b714904",
   "metadata": {},
   "source": [
    "## Add requirements to MS Word as table\n",
    "\n",
    "Below is a very simple working example that writes contents of a database to a word table "
   ]
  },
  {
   "cell_type": "code",
   "execution_count": null,
   "id": "8af268f7",
   "metadata": {},
   "outputs": [],
   "source": [
    "from sqlalchemy import create_engine, text\n",
    "from docx import Document\n",
    "from docx.enum.table import WD_TABLE_ALIGNMENT\n",
    "\n",
    "# Set up the database connection\n",
    "db_uri = \"sqlite:///requirements.db\"\n",
    "engine = create_engine(db_uri)\n",
    "\n",
    "# Define your SQL query\n",
    "sql_query = text(\"SELECT * FROM requirements\")\n",
    "\n",
    "# Execute the query\n",
    "with engine.connect() as connection:\n",
    "    requirements = connection.execute(sql_query)\n",
    "\n",
    "    # Create a new Word document\n",
    "    document = Document()\n",
    "\n",
    "    # Create a table to display the requirements\n",
    "    table = document.add_table(rows=1, cols=2)\n",
    "    table.style = 'Table Grid'  # Apply a table style\n",
    "\n",
    "    # Set table alignment to center\n",
    "    table.alignment = WD_TABLE_ALIGNMENT.CENTER\n",
    "\n",
    "    # Add table headers\n",
    "    headers = table.rows[0].cells\n",
    "    headers[0].text = 'Requirement ID'\n",
    "    headers[1].text = 'Description'\n",
    "    \n",
    "    # Iterate over the requirements and populate the table\n",
    "    for requirement in requirements:\n",
    "        requirement_id, description, phase, mv, md = requirement\n",
    "        row = table.add_row().cells\n",
    "        row[0].text = str(requirement_id)\n",
    "        row[1].text = description\n",
    "\n",
    "    # Save the populated document\n",
    "    document.save(\"output_document.docx\")"
   ]
  },
  {
   "cell_type": "markdown",
   "id": "54824220",
   "metadata": {},
   "source": [
    "## More realistic approach\n",
    "\n",
    "In general requirements can be depend at different parts of the lifecycle (e.g. Initiation, Development, Use, Retirement).\n",
    "In the example database each requirement has a field to state to which phase it belongs. We want to have a table per phase in a seperate document for each team."
   ]
  },
  {
   "cell_type": "code",
   "execution_count": null,
   "id": "9699a375",
   "metadata": {},
   "outputs": [],
   "source": [
    "from sqlalchemy import create_engine, text\n",
    "from docx import Document\n",
    "from docx.enum.table import WD_TABLE_ALIGNMENT, WD_CELL_VERTICAL_ALIGNMENT\n",
    "from docx.shared import Inches, Mm\n",
    "\n",
    "def set_column_width(table,column,width_mm):\n",
    "    table.allow_autofit = False\n",
    "    for row in table.rows:\n",
    "        row.cells[column].width = Mm(width_mm)\n",
    "\n",
    "# get a list of model life cycle phases\n",
    "stmt = text(\"SELECT DISTINCT life_cycle_phase FROM requirements\")\n",
    "life_cycle_phases = pd.read_sql(stmt, engine).values.squeeze().tolist()\n",
    "\n",
    "# TODO\n",
    "# We need some outer loop to go create a separate doc for md and mv\n",
    "\n",
    "# create a MS Word object\n",
    "document = Document()\n",
    "\n",
    "for cycle in life_cycle_phases:\n",
    "    # Read all the data in for a specific phase in the life cycle\n",
    "    stmt = text(f\"SELECT * FROM requirements WHERE life_cycle_phase = '{cycle}' \")\n",
    "    df = pd.read_sql(stmt, engine)\n",
    "\n",
    "    # Create a table to display the requirements\n",
    "    # adjust the cols argument to allign with the num columns \n",
    "    document.add_paragraph(f\"Category: {cycle}\")\n",
    "    table = document.add_table(rows=1, cols=2)\n",
    "    table.columns[1].width = 1000000\n",
    "    table.style = 'Table Grid'  # Apply a table style\n",
    "    \n",
    "    # Set table alignment to center\n",
    "    table.alignment = WD_TABLE_ALIGNMENT.CENTER\n",
    "\n",
    "    # Add table headers\n",
    "    headers = table.rows[0].cells\n",
    "    headers[0].text = 'Requirement ID'\n",
    "    headers[1].text = 'Description'\n",
    "    \n",
    "    for idx, row in df.iterrows():\n",
    "        table_row = table.add_row().cells\n",
    "        table_row[0].text = str(row['number'])\n",
    "        table_row[1].text = row['requirement']\n",
    "        \n",
    "    document.add_paragraph(\"\")    \n",
    "    \n",
    "# Save the populated document\n",
    "document.save(\"output_document.docx\")"
   ]
  },
  {
   "cell_type": "code",
   "execution_count": null,
   "id": "6fc00997",
   "metadata": {},
   "outputs": [],
   "source": [
    "table.columns[0].width"
   ]
  },
  {
   "cell_type": "code",
   "execution_count": null,
   "id": "b67a9993",
   "metadata": {},
   "outputs": [],
   "source": []
  }
 ],
 "metadata": {
  "kernelspec": {
   "display_name": "Python 3 (ipykernel)",
   "language": "python",
   "name": "python3"
  },
  "language_info": {
   "codemirror_mode": {
    "name": "ipython",
    "version": 3
   },
   "file_extension": ".py",
   "mimetype": "text/x-python",
   "name": "python",
   "nbconvert_exporter": "python",
   "pygments_lexer": "ipython3",
   "version": "3.10.6"
  }
 },
 "nbformat": 4,
 "nbformat_minor": 5
}
